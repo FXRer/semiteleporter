{
 "metadata": {
  "name": "",
  "signature": "sha256:e8197117615c0a8191e8722f700584442c0290f53a45fcd1778271dcbd921be3"
 },
 "nbformat": 3,
 "nbformat_minor": 0,
 "worksheets": [
  {
   "cells": [
    {
     "cell_type": "code",
     "collapsed": false,
     "input": [
      "from IPython.display import Image\n",
      "repere = Image(\"repere.png\")"
     ],
     "language": "python",
     "metadata": {},
     "outputs": [],
     "prompt_number": 3
    },
    {
     "cell_type": "heading",
     "level": 1,
     "metadata": {},
     "source": [
      "Triangulation d'une image 2D en 3D"
     ]
    },
    {
     "cell_type": "markdown",
     "metadata": {},
     "source": [
      "Cette m\u00e9thode consiste \u00e0 convertir une image 2D ne poss\u00e9dant que les trac\u00e9s des lasers en points dans un rep\u00e8re tri-dimensionnel sur base de l'unique connaissance de :\n",
      "   - l'angle de vision de la camera,\n",
      "   - l'orientation (angle) du laser,\n",
      "   - la distance entre le laser et l'oeil de la camera.\n"
     ]
    },
    {
     "cell_type": "heading",
     "level": 2,
     "metadata": {},
     "source": [
      "Notions"
     ]
    },
    {
     "cell_type": "markdown",
     "metadata": {},
     "source": [
      "Avant tout chose, posons le rep\u00e8re avec l'origine correspondant \u00e0 la position de l'oeil de la camera. Un dessin vaut mieux qu'un long discours :\n"
     ]
    },
    {
     "cell_type": "code",
     "collapsed": false,
     "input": [
      "repere"
     ],
     "language": "python",
     "metadata": {},
     "outputs": [
      {
       "metadata": {},
       "output_type": "pyout",
       "png": "[encoded data removed]",
       "prompt_number": 4,
       "text": [
        "<IPython.core.display.Image at 0x1cf4a90>"
       ]
      }
     ],
     "prompt_number": 4
    },
    {
     "cell_type": "markdown",
     "metadata": {},
     "source": [
      "d = point illumin\u00e9 par un rayon du laser (pixel \u00e9tudi\u00e9).\n",
      "\n",
      "L = largeur de l\u2019image.\n",
      "l = distance (perpendiculaire) du milieu de l\u2019image au point d.\n",
      "\n",
      "H = hauteur de l\u2019image.\n",
      "h = distance (perpendiculaire) du bas de l\u2019image au point d.\n",
      "\n",
      "\u03b1 = angle ouverture de la camera.\n",
      "\u03b3 = angle inclinaison du laser (plan horizontal).\n",
      "\n",
      "P = plan dessin\u00e9 par le laser.\n",
      "D = rayon (droite) de la camera produisant le pixel sur l\u2019image.\n"
     ]
    },
    {
     "cell_type": "heading",
     "level": 2,
     "metadata": {},
     "source": [
      "Rappels"
     ]
    },
    {
     "cell_type": "markdown",
     "metadata": {},
     "source": [
      "L'\u00e9quation d'une $\\textbf{droite}$ est d\u00e9finie par 2 points (ou 1 point et 1 vecteur directeur) :\n",
      "\n",
      "$ D \\equiv p_{0} + (p_{1}-p_{0})*\\rho $\n",
      "\n",
      "autrement dit,\n",
      "\n",
      "$ D \\equiv p_{0} + \\overrightarrow{d}*\\rho $\n",
      "\n",
      "L'\u00e9quation d'un $\\textbf{plan}$ est d\u00e9finie par 3 points (ou 1 point et 2 vecteurs directeurs) :\n",
      "\n",
      "$ P \\equiv p_{0} + (p_{1}-p_{0})*\\lambda + (p_{2}-p_{0})*\\mu $\n",
      "\n",
      "autrement dit,\n",
      "\n",
      "$ P \\equiv p_{0} + \\overrightarrow{a}*\\lambda + \\overrightarrow{b}*\\mu $\n",
      "\n",
      "L'intersection du plan P et de la droite D donne donc l'\u00e9quation suivante :\n",
      "\n",
      "$ p_{d0} + \\overrightarrow{d}*\\rho = p_{p0} + \\overrightarrow{a}*\\lambda + \\overrightarrow{b}*\\mu $\n",
      "\n",
      "$ p_{d0} - p_{p0} = \\overrightarrow{a}*\\lambda + \\overrightarrow{b}*\\mu - \\overrightarrow{d}*\\rho $\n",
      "\n",
      "$ \\begin{pmatrix} p_{dx}-p_{px} \\\\ p_{dy}-p_{py} \\\\ p_{dz}-p_{pz} \\end{pmatrix} = \\begin{pmatrix} a_{x} & b_{x} & d_{x} \\\\ a_{y} & b_{y} & d_{y} \\\\ a_{z} & b_{z} & d_{z} \\end{pmatrix} * \\begin{pmatrix} \\lambda \\\\ \\mu \\\\ \\rho \\end{pmatrix} $\n",
      "\n",
      "$ \\begin{pmatrix} \\lambda \\\\ \\mu \\\\ \\rho \\end{pmatrix} = \\begin{pmatrix} a_{x} & b_{x} & d_{x} \\\\ a_{y} & b_{y} & d_{y} \\\\ a_{z} & b_{z} & d_{z} \\end{pmatrix}^{-1} * \\begin{pmatrix} p_{dx}-p_{px} \\\\ p_{dy}-p_{py} \\\\ p_{dz}-p_{pz} \\end{pmatrix} $\n",
      "\n",
      "o\u00f9,\n",
      "\n",
      "$ \\begin{pmatrix} a_{x} & b_{x} & d_{x} \\\\ \n",
      "                  a_{y} & b_{y} & d_{y} \\\\\n",
      "                  a_{z} & b_{z} & d_{z} \\end{pmatrix}^{-1} = \\frac{1}{det}\n",
      "\\begin{pmatrix} b_{y}*d_{z}-b_{z}*d_{y} & b_{z}*d_{x}-b_{x}*d_{z} & b_{x}*d_{y}-b_{y}*d_{x} \\\\\n",
      "                a_{z}*d_{y}-a_{y}*d_{z} & a_{x}*d_{z}-a_{z}*d_{x} & a_{y}*d_{x}-a_{x}*d_{y} \\\\\n",
      "                a_{y}*b_{z}-a_{z}*b_{y} & a_{z}*b_{x}-a_{x}*b_{z} & a_{x}*b_{y}-a_{y}*b_{x}\\end{pmatrix}$"
     ]
    },
    {
     "cell_type": "heading",
     "level": 2,
     "metadata": {},
     "source": [
      "Mise en \u00e9quation du probl\u00e8me"
     ]
    },
    {
     "cell_type": "markdown",
     "metadata": {},
     "source": [
      "Comme nous travaillons avec un laser lin\u00e9aire, nous allons faire l'hypoth\u00e8se que celui-ci dessine un plan P vertical d\u00e9fini par:\n",
      "   - le vecteur directeur vertical $\\overrightarrow{a} = \\begin{pmatrix} 0 \\\\ 0 \\\\ 1 \\end{pmatrix}$ ,\n",
      "   - le vecteur directeur d\u00e9fini par l'orientation du laser $\\overrightarrow{b} = \\begin{pmatrix} -cos(\\gamma) \\\\ sin(\\gamma) \\\\ 0 \\end{pmatrix}$\n",
      "   - le point de fixation du laser $p_{p} = \\begin{pmatrix} k \\\\ 0 \\\\ 0 \\end{pmatrix}$\n",
      "\n",
      "Et la droite D repr\u00e9sentant le 'rayon' partant de la camera est d\u00e9finie par:\n",
      "   - le point correspondant \u00e0 la position de la camera $p_{d} = \\begin{pmatrix} 0 \\\\ 0 \\\\ 0 \\end{pmatrix}$\n",
      "   - le vecteur directeur d\u00e9fini par la position obsolue du pixel dans l'image $\\overrightarrow{d} = \\begin{pmatrix} l \\\\ \\frac{L}{2*tg(\\frac{\\alpha}{2})} \\\\ h \\end{pmatrix}$  (en supposant les pixels carr\u00e9s)\n",
      "\n",
      "L'\u00e9quation du probl\u00e8me devient donc la suivante :\n",
      "\n",
      "$ \\begin{pmatrix} \\lambda \\\\ \\mu \\\\ \\rho \\end{pmatrix} =\n",
      "  \\begin{pmatrix} 0 & -cos(\\gamma) & l \\\\\n",
      "                0 & sin(\\gamma) & \\frac{L}{2*tg(\\frac{\\alpha}{2})} \\\\\n",
      "                1 & 0 & h \\end{pmatrix}^{-1} * \n",
      "  \\begin{pmatrix} -k \\\\ 0 \\\\ 0 \\end{pmatrix} $\n",
      "\n",
      "$ \\begin{pmatrix} \\lambda \\\\ \\mu \\\\ \\rho \\end{pmatrix} = \\frac{1}{\\frac{-L*cos(\\gamma)}{2*tg(\\frac{\\alpha}{2})}- l*sin(\\gamma)}*\n",
      "  \\begin{pmatrix} sin(\\gamma)*h & cos(\\gamma)*h & -\\frac{-L*cos(\\gamma)}{2*tg(\\frac{\\alpha}{2})}-l*sin(\\gamma) \\\\\n",
      "                  \\frac{L}{2*tg(\\frac{\\alpha}{2})} & -l & 0 \\\\\n",
      "                  -sin(\\gamma) & -cos(\\gamma) & 0 \\end{pmatrix}*\n",
      "  \\begin{pmatrix} -k \\\\ 0 \\\\ 0 \\end{pmatrix} $\n",
      "\n",
      "Seul $\\rho$ est n\u00e9cessaire (et l'\u00e9quation de la droite D). Nous allons \u00e9galement isoler le l de la fraction afin de grouper au maximum les constantes,\n",
      "\n",
      "$ \\rho = \\frac{-k*sin(\\gamma)}{\\frac{L*cotg(\\gamma)}{2*tg(\\frac{\\alpha}{2})}+l} = \\frac{-k}{\\frac{L}{2*tg(\\gamma)*tg(\\frac{\\alpha}{2})}+l} $\n",
      "\n",
      "En r\u00e9sum\u00e9,\n",
      "\n",
      "$ c = \\frac{L}{2*tg(\\frac{\\alpha}{2})} $\n",
      "\n",
      "$ \\rho = \\pm \\frac{k}{\\frac{c}{tan(\\gamma)} + l} $\n",
      "\n",
      "$ \\begin{pmatrix} x \\\\ y \\\\ z \\end{pmatrix} = \\rho* \\begin{pmatrix} l \\\\ c \\\\ h \\end{pmatrix} $ "
     ]
    },
    {
     "cell_type": "heading",
     "level": 2,
     "metadata": {},
     "source": [
      "R\u00e9solution"
     ]
    },
    {
     "cell_type": "code",
     "collapsed": false,
     "input": [],
     "language": "python",
     "metadata": {},
     "outputs": []
    }
   ],
   "metadata": {}
  }
 ]
}