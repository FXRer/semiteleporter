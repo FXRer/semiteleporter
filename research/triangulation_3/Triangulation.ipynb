{
 "metadata": {
  "name": "",
  "signature": "sha256:554c0cac60177c54321523c642ec06d44bee80f96af0b12b03b4f4bdcb9e064e"
 },
 "nbformat": 3,
 "nbformat_minor": 0,
 "worksheets": [
  {
   "cells": [
    {
     "cell_type": "code",
     "collapsed": false,
     "input": [
      "import numpy as np\n",
      "import matplotlib.pyplot as plt\n",
      "from math import sin, cos, tan, atan, pi\n",
      "from pylab import imread\n",
      "from mpl_toolkits.mplot3d import Axes3D\n",
      "from filter import findPoints, filterNoise, substract"
     ],
     "language": "python",
     "metadata": {},
     "outputs": [],
     "prompt_number": 1
    },
    {
     "cell_type": "markdown",
     "metadata": {},
     "source": [
      "# Param\u00e8tres du syt\u00e8me\n",
      "\n",
      "Deux lasers sont plac\u00e9s de part et d'autre de la cam\u00e9ra, leurs faisceaux verticaux forment une ligne au centre du champ de vision de la cam\u00e9ra (plan de l'image) \u00e0 une distance de $ L $ de l'objectif. L'angle orient\u00e9 entre le laser gauche et le plan de l'image est not\u00e9 $ \\gamma_G = 78\u00b0 $, et celui du laser droit $ \\gamma_D = 83\u00b0 $. L'angle d'ouverture de la cam\u00e9ra \u00e0 mi-hauteur du plan de l'image est $ \\alpha $.\n",
      "\n",
      "Les photos sont numerot\u00e9es. La photo `2n` paire a \u00e9t\u00e9 prise avec les lasers allum\u00e9s, la photo `2n+1` (impaire) avec les lasers \u00e9teint."
     ]
    },
    {
     "cell_type": "code",
     "collapsed": false,
     "input": [
      "# Num\u00e9ro de la photo \u00e0 analyser\n",
      "PHOTO_NUM = 2\n",
      "# Chemin des images\n",
      "PHOTO_ON, PHOTO_OFF = \"imgs/%02d.png\"%(2*PHOTO_NUM), \"imgs/%02d.png\"%(2*PHOTO_NUM+1)\n",
      "image = filterNoise(substract(PHOTO_ON, PHOTO_OFF))\n",
      "\n",
      "def deg2rad(x): return pi*float(x)/180\n",
      "def rad2deg(x): return 180*float(x)/pi\n",
      "\n",
      "L = 53.2\n",
      "GAMMA_D = -deg2rad(83)\n",
      "GAMMA_G = deg2rad(78)\n",
      "ALPHA = deg2rad(60)\n",
      "LASER_G = np.array([L * tan(pi/2-GAMMA_G), 0, 0])\n",
      "LASER_D = np.array([L * tan(pi/2-GAMMA_D), 0, 0])"
     ],
     "language": "python",
     "metadata": {},
     "outputs": [],
     "prompt_number": 7
    },
    {
     "cell_type": "markdown",
     "metadata": {},
     "source": [
      "# Formules de position\n",
      "\n",
      "Si un point est d\u00e9tect\u00e9 \u00e0 la position $\\begin{pmatrix}i\\\\j\\end{pmatrix}$ dans l'image, on peut lui associer un rayon sortant de la cam\u00e9ra, ayant pour \u00e9quation $\\zeta \\begin{pmatrix}\\sin\\theta\\\\\\cos\\theta\\\\\\tan\\phi\\end{pmatrix}$, o\u00f9 $\\theta$ est l'angle horizontal, et $\\phi$ l'angle vertical par rapport au centre de l'image. La position du laser peut \u00eatre d\u00e9termin\u00e9 avec $\\Gamma$ et $L$: $\\begin{pmatrix}L \\tan(\\frac{\\pi}{2}-\\Gamma) \\\\0\\\\0\\end{pmatrix}$.\n",
      "\n",
      "Ce rayon croise le plan du laser qui a pour \u00e9quation\n",
      "\n",
      "$\\lambda \\begin{pmatrix}\\cos\\Gamma\\\\\\sin\\Gamma\\\\0\\end{pmatrix} + \\mu \\begin{pmatrix}0\\\\0\\\\1\\end{pmatrix}$\n",
      "\n",
      "Il suffit donc de r\u00e9soudre le syst\u00e8me\n",
      "\n",
      "$\\begin{pmatrix}\\cos\\Gamma&0&\\sin\\theta \\\\ \\sin\\Gamma&0&\\cos\\theta \\\\ 0&1&\\tan\\phi\\end{pmatrix} \\begin{pmatrix}\\lambda\\\\\\mu\\\\\\zeta\\end{pmatrix} = -\\begin{pmatrix}L \\tan(\\frac{\\pi}{2}-\\Gamma) \\\\0\\\\0\\end{pmatrix}$\n",
      "\n",
      "et nous pouvons obtenir la position du point \u00e0 partir des param\u00e8tres ainsi d\u00e9termin\u00e9s."
     ]
    },
    {
     "cell_type": "code",
     "collapsed": false,
     "input": [
      "def position(laser, gamma, theta, phi):\n",
      "    \"\"\"\n",
      "    laser: position (x,y,z) du laser par rapport \u00e0 la camera\n",
      "    gamma: angle que fait le laser avec le plan ortogonal \u00e0 la cam\u00e9ra\n",
      "    theta: angle horizontal du rayon de la camera\n",
      "    phi  : angle vertical du rayon de la camera\n",
      "    \"\"\"\n",
      "    # vecteur directeur du rayon sortant de la camera\n",
      "    ray = np.array([sin(theta), cos(theta), tan(phi)])\n",
      "    \n",
      "    # Matrice tq (matrix) * (l, m, z) = (laser)\n",
      "    matrix = np.array([\n",
      "        [cos(gamma), 0, sin(theta)],\n",
      "        [sin(gamma), 0, cos(theta)],\n",
      "        [         0, 1, tan(phi)  ]\n",
      "    ])\n",
      "    l, m, z = np.linalg.solve(matrix, -laser)\n",
      "    return z * ray\n",
      "\n",
      "def theta_phi(alpha, image_shape, position):\n",
      "    x, y = map(float, position)\n",
      "    w, h = map(float, image_shape)\n",
      "    ratio = w/h\n",
      "    beta = alpha / ratio\n",
      "    theta = (x - w/2)/w * alpha\n",
      "    phi = (h/2 - y)/h * beta\n",
      "    return theta, phi"
     ],
     "language": "python",
     "metadata": {},
     "outputs": [],
     "prompt_number": 8
    },
    {
     "cell_type": "code",
     "collapsed": false,
     "input": [
      "tuple(position(LASER_G, GAMMA_G, 0, 0)) # Devrait \u00eatre (0, 53.2, 0): rayon au centre de la cam"
     ],
     "language": "python",
     "metadata": {},
     "outputs": [
      {
       "metadata": {},
       "output_type": "pyout",
       "prompt_number": 9,
       "text": [
        "(0.0, 53.199999999999996, 0.0)"
       ]
      }
     ],
     "prompt_number": 9
    },
    {
     "cell_type": "markdown",
     "metadata": {},
     "source": [
      "# Calcul des positions des points sur l'image\n",
      "\n",
      "Pour chaque point d\u00e9tect\u00e9 par l'algorithme de d\u00e9tection du laser dans l'image, on applique les fonctions ci-dessus"
     ]
    },
    {
     "cell_type": "code",
     "collapsed": false,
     "input": [
      "XYZ = []\n",
      "IJ = []\n",
      "H, W = image.shape[:2]\n",
      "for j, i in findPoints(image):\n",
      "    IJ.append((j, i))\n",
      "    theta, phi = theta_phi(ALPHA/2, [W, H], [j, i])\n",
      "    gamma = GAMMA_G if theta < 0 else GAMMA_D\n",
      "    laser = LASER_G if theta < 0 else LASER_D\n",
      "    XYZ.append(position(laser, gamma, theta, phi))\n",
      "\n",
      "# Coordonn\u00e9es des points en 3D\n",
      "X, Y, Z = map(np.array, zip(*XYZ))\n",
      "# Coordonn\u00e9es des points sur l'image\n",
      "I, J = map(np.array, zip(*IJ))"
     ],
     "language": "python",
     "metadata": {},
     "outputs": [],
     "prompt_number": 10
    },
    {
     "cell_type": "markdown",
     "metadata": {},
     "source": [
      "## Et oui, on aime les graphiques !"
     ]
    },
    {
     "cell_type": "code",
     "collapsed": false,
     "input": [
      "fig = plt.figure(figsize=(15, 15), dpi=80)\n",
      "\n",
      "ax = fig.add_subplot(221, projection='3d')\n",
      "ax.scatter(X, Y, Z)\n",
      "ax.plot([0, 0], [0, L], [0, 0], color='red')\n",
      "plt.xlim(-50, 50)\n",
      "plt.ylim(0, 60)\n",
      "\n",
      "photo = imread(PHOTO_ON)\n",
      "ax = fig.add_subplot(222)\n",
      "h, w = photo.shape[:2]\n",
      "ax.imshow(photo)\n",
      "ax.scatter(I, J)\n",
      "\n",
      "ax = fig.add_subplot(223)\n",
      "h, w = photo.shape[:2]\n",
      "ax.imshow(photo)\n",
      "ax.plot([w/2, w/2], [0, h], 'y')\n",
      "ax.plot([0, w], [h/2, h/2], 'y')\n",
      "\n",
      "photo = imread(PHOTO_OFF)\n",
      "ax = fig.add_subplot(224)\n",
      "h, w = photo.shape[:2]\n",
      "ax.imshow(photo)\n",
      "ax.plot([w/2, w/2], [0, h], 'y')\n",
      "ax.plot([0, w], [h/2, h/2], 'y')\n",
      "plt.show()"
     ],
     "language": "python",
     "metadata": {},
     "outputs": [],
     "prompt_number": 11
    },
    {
     "cell_type": "code",
     "collapsed": false,
     "input": [],
     "language": "python",
     "metadata": {},
     "outputs": [],
     "prompt_number": 11
    },
    {
     "cell_type": "code",
     "collapsed": false,
     "input": [],
     "language": "python",
     "metadata": {},
     "outputs": [],
     "prompt_number": 6
    }
   ],
   "metadata": {}
  }
 ]
}