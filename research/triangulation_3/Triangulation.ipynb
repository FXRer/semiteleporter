{
 "metadata": {
  "name": "",
  "signature": "sha256:42048e3c9da9baf382438f1930f2fdf01eb4d6b1446c2f3dd8eeb467f787a7d7"
 },
 "nbformat": 3,
 "nbformat_minor": 0,
 "worksheets": [
  {
   "cells": [
    {
     "cell_type": "code",
     "collapsed": false,
     "input": [
      "import numpy as np\n",
      "import matplotlib.pyplot as plt\n",
      "from math import sin, cos, tan, atan, asin, pi, hypot\n",
      "from pylab import imread\n",
      "from mpl_toolkits.mplot3d import Axes3D\n",
      "from filter import findPoints, filterNoise, substract"
     ],
     "language": "python",
     "metadata": {},
     "outputs": [],
     "prompt_number": 73
    },
    {
     "cell_type": "markdown",
     "metadata": {},
     "source": [
      "# Param\u00e8tres du syt\u00e8me\n",
      "\n",
      "Deux lasers sont plac\u00e9s de part et d'autre de la cam\u00e9ra, leurs faisceaux verticaux forment une ligne au centre du champ de vision de la cam\u00e9ra (plan de l'image) \u00e0 une distance de $ L $ de l'objectif. La cam\u00e9ra est \u00e0 une hauteur $ H_c $ et le plateau \u00e0 une hauteur $H_p$, et cette diff\u00e9rence de hauteur donne \u00e0 la cam\u00e9ra un angle de plong\u00e9e $\\delta$. L'angle orient\u00e9 entre le laser gauche et le plan de l'image est not\u00e9 $ \\gamma_G = 78\u00b0 $, et celui du laser droit $ \\gamma_D = 83\u00b0 $. L'angle d'ouverture de la cam\u00e9ra \u00e0 mi-hauteur du plan de l'image est $ \\alpha = 60\u00b0$.\n",
      "\n",
      "Les photos sont numerot\u00e9es. La photo `2n.png` paire a \u00e9t\u00e9 prise avec les lasers allum\u00e9s, la photo `2n+1.png` (impaire) avec les lasers \u00e9teint."
     ]
    },
    {
     "cell_type": "code",
     "collapsed": false,
     "input": [
      "# Num\u00e9ro de la photo \u00e0 analyser\n",
      "PHOTO_NUM = 14\n",
      "# Chemin des images\n",
      "PHOTO_ON, PHOTO_OFF = \"imgs/%02d.png\"%(2*PHOTO_NUM), \"imgs/%02d.png\"%(2*PHOTO_NUM+1)\n",
      "image = filterNoise(substract(PHOTO_ON, PHOTO_OFF))\n",
      "\n",
      "def deg2rad(x): return pi*float(x)/180\n",
      "def rad2deg(x): return 180*float(x)/pi\n",
      "\n",
      "# Param\u00e8tres mesur\u00e9s\n",
      "L = 53.2\n",
      "H_C = 39\n",
      "H_P = 18.5\n",
      "GAMMA_D = -deg2rad(83)\n",
      "GAMMA_G = deg2rad(78)\n",
      "ALPHA = deg2rad(60)\n",
      "\n",
      "# Param\u00e8tres de calibration: coordonn\u00e9es en pixels du centre du plateau\n",
      "CX, CY = 317, 310\n",
      "\n",
      "# Param\u00e8tres calcul\u00e9s\n",
      "H_RELATIVE = H_C - H_P\n",
      "DELTA = asin(H_RELATIVE/L)\n",
      "LASER_G = np.array([L * tan(pi/2-GAMMA_G), 0, 0])\n",
      "LASER_D = np.array([L * tan(pi/2-GAMMA_D), 0, 0])\n",
      "CAM = np.array([0, -L, H_RELATIVE])"
     ],
     "language": "python",
     "metadata": {},
     "outputs": [],
     "prompt_number": 117
    },
    {
     "cell_type": "markdown",
     "metadata": {},
     "source": [
      "# Formules de position\n",
      "\n",
      "On cherche \u00e0 placer les points dans un rep\u00e8re centr\u00e9 sur le centre du plateau.\n",
      "\n",
      "Si un point est d\u00e9tect\u00e9 \u00e0 la position $\\begin{pmatrix}i\\\\j\\end{pmatrix}$ dans l'image, on peut lui associer un rayon sortant de la cam\u00e9ra, ayant pour \u00e9quation $\\zeta \\begin{pmatrix}\\sin\\theta\\\\\\cos\\theta\\\\\\sin(\\phi-\\delta)\\end{pmatrix}$, o\u00f9 $\\theta$ est l'angle horizontal, et $\\phi$ l'angle vertical par rapport au centre de l'image. Ce rayon croise le plan du laser qui a pour \u00e9quation\n",
      "\n",
      "$\\lambda \\begin{pmatrix}\\cos\\gamma\\\\\\sin\\gamma\\\\0\\end{pmatrix} + \\mu \\begin{pmatrix}0\\\\0\\\\1\\end{pmatrix}$\n",
      "\n",
      "L'\u00e9cart entre le plan d\u00e9crit par le laser et la cam\u00e9ra peut \u00eatre d\u00e9termin\u00e9 avec $\\gamma$ et $L$: $\\begin{pmatrix}L \\tan(\\frac{\\pi}{2}-\\gamma) \\\\ 0 \\\\0\\end{pmatrix}$\n",
      "\n",
      "Il suffit donc de r\u00e9soudre le syst\u00e8me\n",
      "\n",
      "$\\begin{pmatrix}\\cos\\gamma&0&\\sin\\theta \\\\ \\sin\\gamma&0&\\cos\\theta \\\\ 0&1&\\sin(\\phi-\\delta)\\end{pmatrix} \\begin{pmatrix}\\lambda\\\\\\mu\\\\\\zeta\\end{pmatrix} = -\\begin{pmatrix}L \\tan(\\frac{\\pi}{2}-\\gamma) \\\\ 0\\\\0 \\end{pmatrix}$\n",
      "\n",
      "et nous pouvons obtenir la position du point \u00e0 partir des param\u00e8tres ainsi d\u00e9termin\u00e9s."
     ]
    },
    {
     "cell_type": "code",
     "collapsed": false,
     "input": [
      "def position(laser, gamma, theta, phi):\n",
      "    \"\"\"\n",
      "    laser: position (x,y,z) du laser par rapport \u00e0 la camera\n",
      "    gamma: angle que fait le laser avec le plan ortogonal \u00e0 la cam\u00e9ra\n",
      "    theta: angle horizontal du rayon de la camera\n",
      "    phi  : angle vertical du rayon de la camera\n",
      "    \"\"\"\n",
      "    # vecteur directeur du rayon sortant de la camera\n",
      "    ray = np.array([sin(theta), cos(theta), sin(phi-DELTA)])\n",
      "    \n",
      "    # Matrice tq (matrix) * (l, m, z) = (laser)\n",
      "    matrix = np.array([\n",
      "        [cos(gamma), 0, sin(theta)],\n",
      "        [sin(gamma), 0, cos(theta)],\n",
      "        [         0, 1, sin(phi-DELTA)]\n",
      "    ])\n",
      "    l, m, z = np.linalg.solve(matrix, -laser)\n",
      "    return CAM + z * ray\n",
      "\n",
      "def theta_phi(alpha, image_shape, position):\n",
      "    x, y = map(float, position)\n",
      "    w, h = map(float, image_shape)\n",
      "    ratio = w/h\n",
      "    beta = alpha / ratio\n",
      "    theta = (x - CX)/(w/2) * alpha\n",
      "    phi = (CY - y)/(h/2) * beta\n",
      "    return theta, phi"
     ],
     "language": "python",
     "metadata": {},
     "outputs": [],
     "prompt_number": 118
    },
    {
     "cell_type": "code",
     "collapsed": false,
     "input": [
      "print map(lambda x: round(x, 1) , position(LASER_G, GAMMA_G, 0, 0))\n",
      "print map(lambda x: round(x, 1) , position(LASER_D, GAMMA_D, 0, 0))\n",
      "# Devraient \u00eatre (0, 0, 0): rayon au centre de la cam\n",
      "\n",
      "print theta_phi(ALPHA, [480, 640], [0, 0])\n",
      "print theta_phi(ALPHA, [480, 640], [639, 0])\n",
      "print theta_phi(ALPHA, [480, 640], [0, 479])\n",
      "print theta_phi(ALPHA, [480, 640], [639, 479])"
     ],
     "language": "python",
     "metadata": {},
     "outputs": [
      {
       "output_type": "stream",
       "stream": "stdout",
       "text": [
        "[0.0, -0.0, 0.0]\n",
        "[0.0, 0.0, -0.0]\n",
        "(-1.383173432205506, 1.3526301702956054)\n",
        "(1.4049900478554351, 1.3526301702956054)\n",
        "(-1.383173432205506, -0.7374016089676041)\n",
        "(1.4049900478554351, -0.7374016089676041)\n"
       ]
      }
     ],
     "prompt_number": 119
    },
    {
     "cell_type": "markdown",
     "metadata": {},
     "source": [
      "# Calcul des positions des points sur l'image\n",
      "\n",
      "Pour chaque point d\u00e9tect\u00e9 par l'algorithme de d\u00e9tection du laser dans l'image, on applique les fonctions ci-dessus"
     ]
    },
    {
     "cell_type": "code",
     "collapsed": false,
     "input": [
      "XYZ = []\n",
      "IJ = []\n",
      "H, W = image.shape[:2]\n",
      "for j, i in findPoints(image):\n",
      "    IJ.append((j, i))\n",
      "    theta, phi = theta_phi(ALPHA, [W, H], [j, i])\n",
      "    gamma = GAMMA_G if theta < 0 else GAMMA_D\n",
      "    laser = LASER_G if theta < 0 else LASER_D\n",
      "    XYZ.append(position(laser, gamma, theta, phi))\n",
      "\n",
      "# Coordonn\u00e9es des points en 3D\n",
      "X, Y, Z = map(np.array, zip(*XYZ))\n",
      "# Coordonn\u00e9es des points sur l'image\n",
      "I, J = map(np.array, zip(*IJ))"
     ],
     "language": "python",
     "metadata": {},
     "outputs": [],
     "prompt_number": 120
    },
    {
     "cell_type": "markdown",
     "metadata": {},
     "source": [
      "## Et oui, on aime les graphiques !"
     ]
    },
    {
     "cell_type": "code",
     "collapsed": false,
     "input": [
      "fig = plt.figure(figsize=(15, 15), dpi=80)\n",
      "\n",
      "R = 25\n",
      "disk = [(x, y, 0) for x in np.linspace(-R, R) for y in np.linspace(-R, R) if hypot(x, y) <= R]\n",
      "\n",
      "ax = fig.add_subplot(221, projection='3d')\n",
      "ax.scatter(X, Y, Z, '.', size=1)\n",
      "rayX, rayY, rayZ = zip(CAM, position(LASER_G, GAMMA_G, 0, 0))\n",
      "ax.plot(rayX, rayY, rayZ, color='y')\n",
      "diskX, diskY, diskZ = zip(*disk)\n",
      "ax.plot(diskX, diskY, diskZ, '.', color='g', alpha=0.25)\n",
      "plt.xlim(-L, L)\n",
      "plt.ylim(-L, L)\n",
      "\n",
      "photo = imread(PHOTO_ON)\n",
      "ax = fig.add_subplot(222)\n",
      "h, w = photo.shape[:2]\n",
      "ax.imshow(photo)\n",
      "ax.scatter(I, J)\n",
      "\n",
      "ax = fig.add_subplot(223)\n",
      "h, w = photo.shape[:2]\n",
      "ax.imshow(photo)\n",
      "ax.plot([CX, CX], [0, h], 'y')\n",
      "ax.plot([0, w], [CY, CY], 'y')\n",
      "\n",
      "photo = imread(PHOTO_OFF)\n",
      "ax = fig.add_subplot(224)\n",
      "h, w = photo.shape[:2]\n",
      "ax.imshow(photo)\n",
      "ax.plot([CX, CX], [0, h], 'y')\n",
      "ax.plot([0, w], [CY, CY], 'y')\n",
      "plt.show()"
     ],
     "language": "python",
     "metadata": {},
     "outputs": [],
     "prompt_number": 121
    },
    {
     "cell_type": "code",
     "collapsed": false,
     "input": [
      "plt.scatter?"
     ],
     "language": "python",
     "metadata": {},
     "outputs": [],
     "prompt_number": 114
    },
    {
     "cell_type": "code",
     "collapsed": false,
     "input": [],
     "language": "python",
     "metadata": {},
     "outputs": [],
     "prompt_number": 33
    }
   ],
   "metadata": {}
  }
 ]
}