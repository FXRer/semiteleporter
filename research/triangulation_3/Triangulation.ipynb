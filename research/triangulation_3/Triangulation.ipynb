{
 "metadata": {
  "name": "",
  "signature": "sha256:666070eb2766951bc9a235ac4dc623d07a90b1be5db158a61a6b024ac9016a5e"
 },
 "nbformat": 3,
 "nbformat_minor": 0,
 "worksheets": [
  {
   "cells": [
    {
     "cell_type": "code",
     "collapsed": false,
     "input": [
      "import numpy as np\n",
      "import matplotlib.pyplot as plt\n",
      "from math import sin, cos, tan, atan, pi\n",
      "from pylab import imread\n",
      "from mpl_toolkits.mplot3d import Axes3D\n",
      "from filter import findPoints, filterNoise, substract"
     ],
     "language": "python",
     "metadata": {},
     "outputs": [],
     "prompt_number": 21
    },
    {
     "cell_type": "heading",
     "level": 1,
     "metadata": {},
     "source": [
      "Param\u00e8tres du syt\u00e8me"
     ]
    },
    {
     "cell_type": "code",
     "collapsed": false,
     "input": [
      "PHOTO_NUM = 14\n",
      "PHOTO_ON, PHOTO_OFF = \"imgs/%02d.png\"%(PHOTO_NUM), \"imgs/%02d.png\"%(PHOTO_NUM+1)\n",
      "image = filterNoise(substract(PHOTO_ON, PHOTO_OFF))\n",
      "\n",
      "def deg2rad(x): return pi*float(x)/180\n",
      "def rad2deg(x): return 180*float(x)/pi\n",
      "\n",
      "CAM_DISTANCE = 53.2\n",
      "GAMMA_D = -deg2rad(83)\n",
      "GAMMA_G = deg2rad(78)\n",
      "ALPHA = deg2rad(60)\n",
      "LASER_G = np.array([CAM_DISTANCE * tan(pi/2-GAMMA_G), 0, 0])\n",
      "LASER_D = np.array([CAM_DISTANCE * tan(pi/2-GAMMA_D), 0, 0])"
     ],
     "language": "python",
     "metadata": {},
     "outputs": [],
     "prompt_number": 22
    },
    {
     "cell_type": "markdown",
     "metadata": {},
     "source": [
      "# Formules de position"
     ]
    },
    {
     "cell_type": "code",
     "collapsed": false,
     "input": [
      "def position(laser, gamma, theta, phi):\n",
      "    \"\"\"\n",
      "    laser: position (x,y,z) du laser par rapport \u00e0 la camera\n",
      "    gamma: angle que fait le laser avec le plan ortogonal \u00e0 la cam\u00e9ra\n",
      "    theta: angle horizontal du rayon de la camera\n",
      "    phi  : angle vertical du rayon de la camera\n",
      "    \"\"\"\n",
      "    # vecteur directeur du rayon sortant de la camera\n",
      "    ray = np.array([sin(theta), cos(theta), tan(phi)])\n",
      "    \n",
      "    # Matrice tq (matrix) * (l, m, z) = (laser)\n",
      "    matrix = np.array([\n",
      "        [cos(gamma), 0, sin(theta)],\n",
      "        [sin(gamma), 0, cos(theta)],\n",
      "        [         0, 1, tan(phi)  ]\n",
      "    ])\n",
      "    l, m, z = np.linalg.solve(matrix, -laser)\n",
      "    return z * ray"
     ],
     "language": "python",
     "metadata": {},
     "outputs": [],
     "prompt_number": 23
    },
    {
     "cell_type": "code",
     "collapsed": false,
     "input": [
      "def theta_phi(alpha, image_shape, position):\n",
      "    x, y = map(float, position)\n",
      "    w, h = map(float, image_shape)\n",
      "    ratio = w/h\n",
      "    beta = alpha / ratio\n",
      "    theta = (x - w/2)/w * alpha\n",
      "    phi = (h/2 - y)/h * beta\n",
      "    return theta, phi"
     ],
     "language": "python",
     "metadata": {},
     "outputs": [],
     "prompt_number": 13
    },
    {
     "cell_type": "code",
     "collapsed": false,
     "input": [
      "tuple(position(LASER_G, GAMMA_G, 0, 0)) # Devrait \u00eatre (0, 53.2, 0): rayon au centre de la cam"
     ],
     "language": "python",
     "metadata": {},
     "outputs": [
      {
       "metadata": {},
       "output_type": "pyout",
       "prompt_number": 20,
       "text": [
        "(0.0, 53.199999999999996, 0.0)"
       ]
      }
     ],
     "prompt_number": 20
    },
    {
     "cell_type": "heading",
     "level": 3,
     "metadata": {},
     "source": [
      "Calcul des positions des points"
     ]
    },
    {
     "cell_type": "code",
     "collapsed": false,
     "input": [
      "XYZ = []\n",
      "IJ = []\n",
      "H, W = image.shape[:2]\n",
      "for j, i in findPoints(image):\n",
      "    IJ.append((j, i))\n",
      "    theta, phi = theta_phi(ALPHA/2, [W, H], [j, i])\n",
      "    gamma = GAMMA_G if theta < 0 else GAMMA_D\n",
      "    laser = LASER_G if theta < 0 else LASER_D\n",
      "    XYZ.append(position(laser, gamma, theta, phi))\n",
      "\n",
      "X, Y, Z = map(np.array, zip(*XYZ))\n",
      "I, J = map(np.array, zip(*IJ))\n",
      "XYZ[0]"
     ],
     "language": "python",
     "metadata": {},
     "outputs": [
      {
       "metadata": {},
       "output_type": "pyout",
       "prompt_number": 16,
       "text": [
        "array([ -1.22300171e+00,   4.74462293e+01,   3.88297577e-02])"
       ]
      }
     ],
     "prompt_number": 16
    },
    {
     "cell_type": "code",
     "collapsed": false,
     "input": [
      "fig = plt.figure()\n",
      "ax = fig.add_subplot(211, projection='3d')\n",
      "ax.scatter(X, Y, Z)\n",
      "ax.plot([0, 0], [0, CAM_DISTANCE], [0, 0], color='red')\n",
      "plt.xlim(-50, 50)\n",
      "plt.ylim(0, 60)"
     ],
     "language": "python",
     "metadata": {},
     "outputs": [
      {
       "metadata": {},
       "output_type": "pyout",
       "prompt_number": 17,
       "text": [
        "(0, 60)"
       ]
      }
     ],
     "prompt_number": 17
    },
    {
     "cell_type": "code",
     "collapsed": false,
     "input": [
      "photo = imread(PHOTO_ON)\n",
      "ax = fig.add_subplot(212)\n",
      "h, w = photo.shape[:2]\n",
      "\n",
      "ax.imshow(photo)\n",
      "ax.scatter(I, J)\n",
      "ax.plot([w/2, w/2], [0, h], 'y')\n",
      "ax.plot([0, w], [h/2, h/2], 'y')\n",
      "plt.show()"
     ],
     "language": "python",
     "metadata": {},
     "outputs": [],
     "prompt_number": 18
    },
    {
     "cell_type": "code",
     "collapsed": false,
     "input": [],
     "language": "python",
     "metadata": {},
     "outputs": [],
     "prompt_number": 18
    }
   ],
   "metadata": {}
  }
 ]
}